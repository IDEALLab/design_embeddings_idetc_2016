{
 "cells": [
  {
   "cell_type": "code",
   "execution_count": 1,
   "metadata": {
    "collapsed": false
   },
   "outputs": [
    {
     "name": "stdout",
     "output_type": "stream",
     "text": [
      "Using Theano backend.\n",
      "cross validation: 1\n",
      "cross validation: 2\n",
      "cross validation: 3\n",
      "cross validation: 4\n",
      "cross validation: 5\n",
      "cross validation: 6\n",
      "cross validation: 7\n",
      "cross validation: 8\n",
      "cross validation: 9\n",
      "cross validation: 10\n"
     ]
    },
    {
     "data": {
      "text/plain": [
       "{'l2_at_most_l1': -1,\n",
       " 'l3_at_most_l2': -1,\n",
       " 'l4_at_most_l3': -1,\n",
       " 'objective': 0.0011096836358715975}"
      ]
     },
     "execution_count": 1,
     "metadata": {},
     "output_type": "execute_result"
    }
   ],
   "source": [
    "import autoencoder5\n",
    "autoencoder5.mapping(0,0,0,0,-1,-8,0,-13,0.9)"
   ]
  },
  {
   "cell_type": "code",
   "execution_count": null,
   "metadata": {
    "collapsed": true
   },
   "outputs": [],
   "source": []
  }
 ],
 "metadata": {
  "kernelspec": {
   "display_name": "Python 2",
   "language": "python",
   "name": "python2"
  },
  "language_info": {
   "codemirror_mode": {
    "name": "ipython",
    "version": 2
   },
   "file_extension": ".py",
   "mimetype": "text/x-python",
   "name": "python",
   "nbconvert_exporter": "python",
   "pygments_lexer": "ipython2",
   "version": "2.7.11"
  }
 },
 "nbformat": 4,
 "nbformat_minor": 0
}
